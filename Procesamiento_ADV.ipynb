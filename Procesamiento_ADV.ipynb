{
 "cells": [
  {
   "cell_type": "markdown",
   "metadata": {},
   "source": [
    "# Procesamiento de señales de velocidad obtenidas a partir de un ADV"
   ]
  },
  {
   "cell_type": "markdown",
   "metadata": {},
   "source": [
    "*versión 29.1.19*\n",
    "\n",
    "El presente es un documento interactivo con análisis básicos aplicados a señales de flujos turbulentos obtenidas a través de un ADV Sontek 16MHz o un Nortek Vectrino Profiler II. Incluye:\n",
    "\n",
    "1. Indicadores de calidad de la señal\n",
    "2. Aplicación del filtro Phase Space (Goring y Nikora, 2002)\n",
    "2. Extracción de ruido Doppler\n",
    "3. Cálculo de estadísticos corregidos por ruido Doppler\n",
    "4. Aplicación del método de Bootstrap para la evaluación del tiempo de medición\n",
    "\n",
    "Los procedimientos presentados deben aplicarse a archivos de extensión _*Vf_ producidos por el software _WinADV_, si empleó el MicroADV Sontek o _*.mat_ en el caso de haber realizado las mediciones con un equipo Nortek Vectrino Profiler."
   ]
  },
  {
   "cell_type": "markdown",
   "metadata": {},
   "source": [
    "## Importar librerías"
   ]
  },
  {
   "cell_type": "code",
   "execution_count": 18,
   "metadata": {},
   "outputs": [],
   "source": [
    "import numpy as np\n",
    "import matplotlib.mlab as mlab\n",
    "import matplotlib.pyplot as plt\n",
    "import scipy.io as sio\n",
    "import random\n",
    "import scipy.stats as stats\n",
    "from statsmodels.tsa.stattools import acf\n",
    "import math"
   ]
  },
  {
   "cell_type": "markdown",
   "metadata": {},
   "source": [
    "## Cargar series"
   ]
  },
  {
   "cell_type": "markdown",
   "metadata": {},
   "source": [
    "Importación de los archivos de extensión _*.Vf_, o _*.mat según corresponda a mediciones de un equipo Sontek Micro ADV o Nortek Vectrino Profiler"
   ]
  },
  {
   "cell_type": "markdown",
   "metadata": {},
   "source": [
    "### Definición funciones *importar*"
   ]
  },
  {
   "cell_type": "markdown",
   "metadata": {},
   "source": [
    "Definición de la función *importarvectrino*"
   ]
  },
  {
   "cell_type": "code",
   "execution_count": 19,
   "metadata": {},
   "outputs": [],
   "source": [
    "def importarvectrino(ruta,archivo,bin):\n",
    "    data = sio.loadmat(ruta+'\\\\'+archivo)\n",
    "    #list(data.keys()) # variables dentro de data\n",
    "    #data['Data\\x00\\x00\\x00\\x00'].dtype # variables dentro de data.'Data\\x00\\x00\\x00\\x00'\n",
    "    #############\n",
    "    # Serie de tiempo\n",
    "    time = np.copy(data['Data\\x00\\x00\\x00\\x00'][0,0]['Profiles_TimeStamp'])\n",
    "    #############\n",
    "    # Extracción de las series correspondientes a todos los bins\n",
    "    ## Velocidades\n",
    "    Vx_raw = np.copy(data['Data\\x00\\x00\\x00\\x00'][0,0]['Profiles_VelX'][:,bin]) # samples x nº de bins\n",
    "    Vy_raw = np.copy(data['Data\\x00\\x00\\x00\\x00'][0,0]['Profiles_VelY'][:,bin])\n",
    "    Vz1_raw= np.copy(data['Data\\x00\\x00\\x00\\x00'][0,0]['Profiles_VelZ1'][:,bin])\n",
    "    Vz2_raw = np.copy(data['Data\\x00\\x00\\x00\\x00'][0,0]['Profiles_VelZ2'][:,bin])\n",
    "    #############\n",
    "    # Correlación media\n",
    "    Cor_med = np.nanmean(np.array([data['Data\\x00\\x00\\x00\\x00'][0,0]['Profiles_CorBeam1'][:,bin],\n",
    "                    data['Data\\x00\\x00\\x00\\x00'][0,0]['Profiles_CorBeam2'][:,bin],\n",
    "                    data['Data\\x00\\x00\\x00\\x00'][0,0]['Profiles_CorBeam3'][:,bin],\n",
    "                    data['Data\\x00\\x00\\x00\\x00'][0,0]['Profiles_CorBeam4'][:,bin]]),0) # samples x 1\n",
    "    #############\n",
    "    # SNR media\n",
    "    SNR_med = np.nanmean(np.array([data['Data\\x00\\x00\\x00\\x00'][0,0]['Profiles_SNRBeam1'][:,bin],\n",
    "                    data['Data\\x00\\x00\\x00\\x00'][0,0]['Profiles_SNRBeam2'][:,bin],\n",
    "                    data['Data\\x00\\x00\\x00\\x00'][0,0]['Profiles_SNRBeam3'][:,bin],\n",
    "                    data['Data\\x00\\x00\\x00\\x00'][0,0]['Profiles_SNRBeam4'][:,bin]]),0) # samples x 1\n",
    "    return time,Vx_raw,Vy_raw,Vz1_raw,Cor_med,SNR_med"
   ]
  },
  {
   "cell_type": "markdown",
   "metadata": {},
   "source": [
    "Definición de la función *importarsontek*"
   ]
  },
  {
   "cell_type": "code",
   "execution_count": 20,
   "metadata": {},
   "outputs": [],
   "source": [
    "def importarsontek(ruta,archivo):\n",
    "    data = np.genfromtxt(path+'\\\\'+file, delimiter=\";\", skip_header=9)\n",
    "    data[data==-99]=np.nan\n",
    "    # Serie de tiempo\n",
    "    time  = np.copy(data[:,0])\n",
    "    #############\n",
    "    # Velocidades\n",
    "    Vx_raw = np.copy(data[:,3])\n",
    "    Vy_raw = np.copy(data[:,4])\n",
    "    Vz_raw = np.copy(data[:,5])\n",
    "    #############\n",
    "    # Correlación media para todos los beams\n",
    "    Cor_med = np.copy(data[:,15])\n",
    "    #############\n",
    "    # Señal ruido (SNR) media para todos los beams\n",
    "    SNR_med = np.copy(data[:,16])\n",
    "    return time,Vx_raw,Vy_raw,Vz_raw,Cor_med,SNR_med"
   ]
  },
  {
   "cell_type": "code",
   "execution_count": 21,
   "metadata": {},
   "outputs": [],
   "source": [
    "def importar(ruta,archivo,stkontk,bin):\n",
    "    if stkontk == 1:\n",
    "        time,Vx_raw,Vy_raw,Vz_raw,Cor_med,SNR_med = importarsontek(ruta,archivo)\n",
    "    else:\n",
    "        time,Vx_raw,Vy_raw,Vz_raw,Cor_med,SNR_med = importarvectrino(ruta,archivo,bin)\n",
    "    return time,Vx_raw,Vy_raw,Vz_raw,Cor_med,SNR_med"
   ]
  },
  {
   "cell_type": "markdown",
   "metadata": {},
   "source": [
    "### Importación de archivos"
   ]
  },
  {
   "cell_type": "code",
   "execution_count": 22,
   "metadata": {},
   "outputs": [],
   "source": [
    "path = 'H:\\\\20180731-BARRANCOSA\\\\MI'\n",
    "file = '20180731-.212.18.Vectrino Profiler.00000.mat' # archivo .mat o .Vf\n",
    "bincentral = 11\n",
    "equipo = 2 # Cambiar según equipo utilizado (1:sontek, 2:nortek)"
   ]
  },
  {
   "cell_type": "code",
   "execution_count": 23,
   "metadata": {},
   "outputs": [],
   "source": [
    "time,Vx_raw,Vy_raw,Vz_raw,Cor_med,SNR_med = importar(path,file,equipo,bincentral)"
   ]
  },
  {
   "cell_type": "markdown",
   "metadata": {},
   "source": [
    "Cálculo de la frecuencia de muestreo $fs$."
   ]
  },
  {
   "cell_type": "code",
   "execution_count": 24,
   "metadata": {},
   "outputs": [],
   "source": [
    "fs = 1//(time[1]-time[0])"
   ]
  },
  {
   "cell_type": "markdown",
   "metadata": {},
   "source": [
    "## Filtro de valores anómalos"
   ]
  },
  {
   "cell_type": "code",
   "execution_count": null,
   "metadata": {},
   "outputs": [],
   "source": []
  },
  {
   "cell_type": "markdown",
   "metadata": {},
   "source": [
    "Las señales de velocidad del flujo pueden presentar en algunos casos, valores extremos anómalos (denominados “spikes” en inglés), originados por distintas razones como por ejemplo la presencia de velocidades de flujo que exceden al rango de velocidad seleccionado en la configuración del instrumento, por contaminación de pulsos previos reflejados desde contornos de geometrías complejas, por falta de partículas trazadoras en el agua, cuando los niveles de turbulencia son muy elevados, etc. Estos valores anómalos presentes en la señal generan errores (sesgo) en la determinación de los parámetros de la turbulencia que se estiman sobre la base de estas series (García et al. 2016). La técnica de detección más difundida es la denominada Phase Space Threshold (Goring y Nikora, 2002)."
   ]
  },
  {
   "cell_type": "markdown",
   "metadata": {},
   "source": [
    "A continuación se define la función *spikeGoringNikora*. La misma asigna el marcador *NaN* a los valores anómalos, según el procedimiento ideado por Goring y Nikora. La función, tomada del código MITT de MacVicar (https://github.com/macvicab/MITT),  requiere ingresar una serie de velocidad a la cual se le haya sustraído la mediana."
   ]
  },
  {
   "cell_type": "code",
   "execution_count": 25,
   "metadata": {},
   "outputs": [],
   "source": [
    "def spikeGoringNikora(velnomedian,UniMult):\n",
    "    \n",
    "    # Definición de sub-función inellipse\n",
    "    def inellipse(xDat, yDat, xEllipse, yEllipse):\n",
    "     yes = np.zeros(xDat.shape[0])==0\n",
    "     angEllipse = np.arctan2(yEllipse,xEllipse)\n",
    "     rEllipse = np.sqrt(xEllipse**2 + yEllipse**2)\n",
    "     if any(angEllipse>0):\n",
    "         angEllipse = angEllipse[:-1]\n",
    "         rEllipse = rEllipse[:-1]\n",
    "         sortIDX = [b[0] for b in sorted(enumerate(angEllipse),key=lambda i:i[1])]\n",
    "         angEllipse = angEllipse[sortIDX]\n",
    "         rEllipse = rEllipse[sortIDX]\n",
    "         angEllipse = np.hstack((angEllipse[-1]-2*np.pi,angEllipse))\n",
    "         rEllipse = np.hstack((rEllipse[-1],rEllipse))\n",
    "         ravgEllipse = rEllipse[0:-1]+np.diff(rEllipse)/2\n",
    "         ##\n",
    "         # Determine in or out status of the point\n",
    "         angDat=np.arctan2(yDat, xDat)\n",
    "         rDat = np.sqrt(xDat**2 + yDat**2)\n",
    "         angIDX = np.digitize(angDat,angEllipse)\n",
    "         nogoo = np.argwhere(angIDX == len(angEllipse)) | (angIDX == 0)\n",
    "         nogoo = nogoo[:,1]\n",
    "         angIDX[nogoo] = 1\n",
    "         angmem = np.unique(angIDX)\n",
    "         natot = len(angmem)\n",
    "         for na in range(0,natot):\n",
    "             goo = angIDX == angmem[na]\n",
    "             yes[goo] = rDat[goo]<=ravgEllipse[angmem[na]-1]\n",
    "     return yes\n",
    "    \n",
    "    \n",
    "    counterlim = 4\n",
    "    \n",
    "    nttot = velnomedian.shape[0]\n",
    "    spikelim = np.max([5,np.floor(nttot*0.001)]) # sets the minimum number of detected spikes to initiate loop post replacement\n",
    "    UniThresh = UniMult*(2*np.log(nttot))**0.5        #CALCULATES UNIVERSAL THRESHOLD\n",
    "    sig=np.arange(0, 2 * np.pi + 2*np.pi/144, 2*np.pi/144)\n",
    "    \n",
    "    vel = np.zeros([nttot,3])\n",
    "    yes = np.copy(vel)\n",
    "    vel[:,0] = np.copy(velnomedian)\n",
    "    veldespike = np.copy(velnomedian)\n",
    "    \n",
    "    # Loop to remove spikes\n",
    "    spike = 1\n",
    "    counter = 0\n",
    "    stdvel = np.zeros(3)\n",
    "    theta = np.zeros(3)\n",
    "    \n",
    "    while spike:\n",
    "        # step 1: calculate surrogates\n",
    "        vel[1:-1,1] = (vel[2:,0]-vel[0:-2,0])/2\n",
    "        vel[2:-2,2] = (vel[3:-1,1]-vel[1:-3,1])/2\n",
    "        # step 2 - calculate the standard deviation of the three variables\n",
    "        for nv in range(3):\n",
    "            stdvel[nv] = 1.483*np.median(np.abs(vel[:,nv]-np.median(vel[:,nv])))\n",
    "        # step 2b - calculate the theoretical maxima using the Universal criterion\n",
    "        maxvel = stdvel*UniThresh\n",
    "        # step 3 - calculate the rotation angle of the principle axis of veldd vs vel\n",
    "        theta[0:1] = 0\n",
    "        theta[2] = np.arctan(np.dot(vel[:,0],vel[:,2])/np.sum(vel[:,0]**2))\n",
    "        # step 4 - calculate the ellipse for each pair of variables\n",
    "        # xa and ya specify the order of the x and y axis variables respectively\n",
    "        xa = [0,1,0]\n",
    "        ya = [1,2,2]\n",
    "        for fg in range(3):\n",
    "            a = xa[fg]\n",
    "            b = ya[fg]\n",
    "            r = ((maxvel[a]**2*maxvel[b]**2)/(maxvel[a]**2*(np.sin(sig))**2 +\n",
    "                  maxvel[b]**2*(np.cos(sig))**2))**0.5\n",
    "            xi = r * np.cos(sig) # polar to cartesian transformation\n",
    "            yi = r * np.sin(sig)\n",
    "            x = xi*np.cos(theta[fg])-yi*np.sin(theta[fg])\n",
    "            y = yi*np.cos(theta[fg])+xi*np.sin(theta[fg])\n",
    "            yes[:,fg] = ~inellipse(vel[:,a],vel[:,b],x,y)\n",
    "        spikeyes = (yes[:,0]==1) | (yes[:,1]==1) | (yes[:,2]==1)\n",
    "        veldespike[spikeyes] = np.nan\n",
    "        spike = ((spikeyes==True).sum()>spikelim) & (counter < counterlim) \n",
    "        counter = counter+1;\n",
    "    return veldespike"
   ]
  },
  {
   "cell_type": "markdown",
   "metadata": {},
   "source": [
    "### Filtrado de la señal"
   ]
  },
  {
   "cell_type": "code",
   "execution_count": 26,
   "metadata": {},
   "outputs": [],
   "source": [
    "vxnomediana = Vx_raw - np.nanmedian(Vx_raw)\n",
    "Vy_gn = Vy_raw - np.nanmedian(Vy_raw)\n",
    "Vz_gn = Vz_raw - np.nanmedian(Vz_raw)\n",
    "\n",
    "# Identificación de valores anómalos\n",
    "Vx_gn = spikeGoringNikora(vxnomediana,1) # Velocidad con NaN en spikes, con mediana sustraida\n",
    "Vy_gn[vxdespikenomediana==np.nan] = np.nan\n",
    "Vz_gn[vxdespikenomediana==np.nan] = np.nan\n",
    "\n",
    "# Adición de la mediana a las señales\n",
    "Vx_gn[vxdespikenomediana!=np.nan] = vxdespikenomediana + np.mean(Vx_raw) \n",
    "Vy_gn[vxdespikenomediana!=np.nan] = vydespikenomediana + np.mean(Vy_raw)\n",
    "Vz_gn[vxdespikenomediana!=np.nan] = vzdespikenomediana + np.mean(Vz_raw)"
   ]
  },
  {
   "cell_type": "markdown",
   "metadata": {},
   "source": [
    "## Calidad de la señal"
   ]
  },
  {
   "cell_type": "markdown",
   "metadata": {},
   "source": [
    "### Señal ruido (SNR)"
   ]
  },
  {
   "cell_type": "markdown",
   "metadata": {},
   "source": [
    "La $SNR$ relaciona la amplitud de la señal acústica recibida y el ruido ambiente. Es un indicador de la cantidad de partículas presentes en el agua (sedimentos, organismos pequeños, burbujas) que reflejarán los pulsos acústicos. **Valores menores a 15 db indicarían la presencia de pocas particulas, y la necesidad de adicionarlas.** (García, et al.2016)"
   ]
  },
  {
   "cell_type": "code",
   "execution_count": 27,
   "metadata": {},
   "outputs": [
    {
     "data": {
      "text/plain": [
       "'SNR media (dB): 34.192223'"
      ]
     },
     "metadata": {},
     "output_type": "display_data"
    },
    {
     "data": {
      "text/plain": [
       "'SNR varianza (dB^2): 59.746323'"
      ]
     },
     "metadata": {},
     "output_type": "display_data"
    }
   ],
   "source": [
    "display('SNR media (dB): '+ str(np.nanmean(SNR_med)))\n",
    "display('SNR varianza (dB^2): '+ str(np.nanvar(SNR_med)))"
   ]
  },
  {
   "cell_type": "markdown",
   "metadata": {},
   "source": [
    "### Correlación"
   ]
  },
  {
   "cell_type": "markdown",
   "metadata": {},
   "source": [
    "**Generalmente, se requiere un parámetro de correlación mayor al 70% para obtener una buena representación del flujo.** (García )"
   ]
  },
  {
   "cell_type": "code",
   "execution_count": 28,
   "metadata": {},
   "outputs": [
    {
     "data": {
      "text/plain": [
       "'Correlación media (%): 62.72234'"
      ]
     },
     "metadata": {},
     "output_type": "display_data"
    },
    {
     "data": {
      "text/plain": [
       "'Correlación varianza (%): 397.7943'"
      ]
     },
     "metadata": {},
     "output_type": "display_data"
    }
   ],
   "source": [
    "display('Correlación media (%): '+ str(np.nanmean(Cor_med)))\n",
    "display('Correlación varianza (%): '+ str(np.nanvar(Cor_med)))"
   ]
  },
  {
   "cell_type": "markdown",
   "metadata": {},
   "source": [
    "### Cantidad de valores anómalos filtrados"
   ]
  },
  {
   "cell_type": "markdown",
   "metadata": {},
   "source": [
    "Las señales de velocidad del flujo pueden presentar en algunos casos, valores extremos anómalos (denominados “spikes” en inglés), originados por distintas razones como por ejemplo la presencia de velocidades de flujo que exceden al rango de velocidad seleccionado en la configuración del instrumento, por contaminación de pulsos previos reflejados desde contornos de geometrías complejas, por falta de partículas trazadoras en el agua, cuando los niveles de turbulencia son muy elevados, etc. Estos valores anómalos presentes en la señal generan errores (sesgo) en la determinación de los parámetros de la turbulencia que se estiman sobre la base de estas series (García et al. 2016).\n",
    "La técnica de detección empleada más extensivamente es la denominada *Phase Space Threshold* (Goring y Nikora, 2002)."
   ]
  },
  {
   "cell_type": "code",
   "execution_count": 29,
   "metadata": {},
   "outputs": [
    {
     "data": {
      "text/plain": [
       "'Valores filtrados Vx (%): 29.10545217107411'"
      ]
     },
     "metadata": {},
     "output_type": "display_data"
    },
    {
     "data": {
      "text/plain": [
       "'Valores filtrados Vy (%): 0.0'"
      ]
     },
     "metadata": {},
     "output_type": "display_data"
    },
    {
     "data": {
      "text/plain": [
       "'Valores filtrados Vz (%): 0.0'"
      ]
     },
     "metadata": {},
     "output_type": "display_data"
    }
   ],
   "source": [
    "display('Valores filtrados Vx (%): '+str(100*np.count_nonzero(np.isnan(Vx_gn))/len(Vx_gn)))\n",
    "display('Valores filtrados Vy (%): '+str(100*np.count_nonzero(np.isnan(Vy_gn))/len(Vy_gn)))\n",
    "display('Valores filtrados Vz (%): '+str(100*np.count_nonzero(np.isnan(Vz_gn))/len(Vz_gn)))"
   ]
  },
  {
   "cell_type": "markdown",
   "metadata": {},
   "source": [
    "## Reemplazo de valores anómalos filtrados"
   ]
  },
  {
   "cell_type": "markdown",
   "metadata": {},
   "source": [
    "El reemplazo del valor anómalo detectado no es requerido para el cálculo de los momentos estadísticos pero es esencial para los cálculos de todos los parámetros de la turbulencia derivados a partir del espectro de energía y de las funciones de autocorrelación. Entre las técnicas de reemplazo de valores anómalos más utilizados se pueden mencionar al reemplazo con el último valor correcto registrado previamente, al reemplazo con el valor interpolado a partir del ajuste a un polinomio de tercer grado utilizando 12 puntos válidos a cada lado del dato anómalo (24 datos en total, Goring and Nikora 2002) y el reemplazo por una simple interpolación lineal entre los datos válidos registrados antes y después del valor anómalo.\n",
    "\n",
    "En el siguiente caso se empleará una interpolación lineal para el reemplazo de los puntos eliminados."
   ]
  },
  {
   "cell_type": "code",
   "execution_count": 30,
   "metadata": {},
   "outputs": [],
   "source": [
    "# Definición de la función de reemplazo 'lininterp'\n",
    "def lininterp(a):\n",
    "    b = np.copy(a)\n",
    "    ok = ~np.isnan(b)\n",
    "    xp = ok.ravel().nonzero()[0]\n",
    "    fp = b[~np.isnan(b)]\n",
    "    x  = np.isnan(b).ravel().nonzero()[0]\n",
    "    b[np.isnan(b)] = np.interp(x, xp, fp)\n",
    "    return b"
   ]
  },
  {
   "cell_type": "code",
   "execution_count": 31,
   "metadata": {},
   "outputs": [],
   "source": [
    "# Velocidades con valores filtrados reemplazados\n",
    "Vx_int = lininterp(Vx_gn)\n",
    "Vy_int = lininterp(Vy_gn)\n",
    "Vz_int = lininterp(Vz_gn)"
   ]
  },
  {
   "cell_type": "markdown",
   "metadata": {},
   "source": [
    "## Extracción del ruido Doppler"
   ]
  },
  {
   "cell_type": "markdown",
   "metadata": {},
   "source": [
    "Nikora and Goring (1998) señalaron que la principal fuente de ruido en las mediciones que se realizan con velocímetros acústico doppler es el ruido Doppler. García et al. (2005) analizaron la importancia relativa de la energía del ruido Doppler con respecto al total de la energía turbulenta capturada con los ADV, señalando que cuando el impacto del ruido es alto se\n",
    "requieren correcciones a los parámetros de la turbulencia que se estimen. El ruido Doppler tiene las características del ruido blanco (Nikora and Goring 1998; Lemming and Lhermitte 1999; Mc Lelland and Nicholas 2000) con una distribución de probabilidad\n",
    "Gaussiana, esto es media cero y varianza finita (Nikora and Goring 1998), así como también un espectro de potencia plano (Anderson and Lohrmann 1995), es decir afecta de igual modo a todas las componentes de frecuencias de la señal ( espectro de potencia constante sobre el rango de frecuencias muestreadas) lo cual indica la presencia de ruido sin correlación. La presencia de ruido blanco en las señales de velocidad medidas con ADV no afecta el cálculo de los valores medios (Nikora and Goring, 1998; Voulgaris and Trowbridge 1998) ni el de las Tensiones de Reynolds (McLelland and Nicholas, 2000), mientras que las estimaciones de la energía cinética turbulenta se encuentra sesgada hacia valores más altos (Nikora and Goring 1998). Puesto que el ruido blanco produce falta de correlación en la señal la función de autocorrelación reduce su valor a cero más rápido que cuando se verifica presencia de ruido, al tiempo que el espectro de potencia resulta sesgado a valores altos (Lohrmann et al. 1994; Nikora and Goring 1998)."
   ]
  },
  {
   "cell_type": "markdown",
   "metadata": {},
   "source": [
    "Para señales de relativa baja energía, el ruido blanco puede detectarse como un aplanamiento del espectro próximo a la frecuencia de Nyquist (*fs/2*) (García 2005). En esos casos Nikora and Goring (1998) sugieren que el espectro de dicho ruido se puede representar por una línea horizontal recta cuyas ordenadas son igual al promedio de las ordenadas espectrales del ruido. Esta técnica fue llamada “Análisis espectral” por Voulgaris and Trowbridge (1998), quienes proponen calcular la energía asociada al ruido a partir del nivel de energía detectado en la cola del espectro, en un rango de frecuencias tal que garantice 10 estimaciones para el cálculo del promedio estadístico."
   ]
  },
  {
   "cell_type": "markdown",
   "metadata": {},
   "source": [
    "### Determinación del nivel de ruido"
   ]
  },
  {
   "cell_type": "markdown",
   "metadata": {},
   "source": [
    "A continuación se aplica el \"Análisis espectral\" (Voulgaris and Trowbridge, 1998) para la extracción del ruido Doppler del espectro de energía de la señal de velocidad. Se adopta el rango $[fs/2-1Hz,fs/2]$ para el cálculo del nivel de energía del ruido. **Debe verificarse visualmente que dicho nivel se corresponda con un aplanamiento en el espectro de la señal no filtrada, y que el rango contenga por lo menos 10 valores.**"
   ]
  },
  {
   "cell_type": "code",
   "execution_count": 32,
   "metadata": {},
   "outputs": [],
   "source": [
    "def noise (a,nfft):\n",
    "    (psd, freq)=mlab.psd(a-np.mean(a), detrend=mlab.detrend_none, noverlap=nfft//2, NFFT=nfft, Fs=fs,window=np.hamming(nfft),pad_to=nfft,sides='onesided',scale_by_freq=True)\n",
    "    dopplernoise = np.mean(psd[len([f for f in freq if f <= 0.5*fs-1]):])\n",
    "    display('Cantidad de valores en el rango [fs/2-1Hz, fs/2]: '+str(len([f for f in freq if f <= 0.5*fs-1])))\n",
    "    return psd, freq, dopplernoise"
   ]
  },
  {
   "cell_type": "code",
   "execution_count": 33,
   "metadata": {},
   "outputs": [
    {
     "data": {
      "text/plain": [
       "'Cantidad de valores en el rango [fs/2-1Hz, fs/2]: 492'"
      ]
     },
     "metadata": {},
     "output_type": "display_data"
    },
    {
     "data": {
      "text/plain": [
       "'Cantidad de valores en el rango [fs/2-1Hz, fs/2]: 492'"
      ]
     },
     "metadata": {},
     "output_type": "display_data"
    },
    {
     "data": {
      "text/plain": [
       "'Cantidad de valores en el rango [fs/2-1Hz, fs/2]: 492'"
      ]
     },
     "metadata": {},
     "output_type": "display_data"
    },
    {
     "data": {
      "text/plain": [
       "'Ruido Doppler, componente x (cm2/s): 0.001704768335476792'"
      ]
     },
     "metadata": {},
     "output_type": "display_data"
    },
    {
     "data": {
      "text/plain": [
       "'Ruido Doppler, componente y (cm2/s): 0.01006637326960829'"
      ]
     },
     "metadata": {},
     "output_type": "display_data"
    },
    {
     "data": {
      "text/plain": [
       "'Ruido Doppler, componente z (cm2/s): 0.001115233842856318'"
      ]
     },
     "metadata": {},
     "output_type": "display_data"
    }
   ],
   "source": [
    "psdx_unf,fx,noisex = noise(Vx_int,1024)\n",
    "psdy_unf,fy,noisey = noise(Vy_int,1024)\n",
    "psdz_unf,fz,noisez = noise(Vz_int,1024)\n",
    "\n",
    "display('Ruido Doppler, componente x (cm2/s): ' + str(noisex))\n",
    "display('Ruido Doppler, componente y (cm2/s): ' + str(noisey))\n",
    "display('Ruido Doppler, componente z (cm2/s): ' + str(noisez))"
   ]
  },
  {
   "cell_type": "markdown",
   "metadata": {},
   "source": [
    "### Verificación del nivel de ruido"
   ]
  },
  {
   "cell_type": "code",
   "execution_count": 34,
   "metadata": {},
   "outputs": [
    {
     "data": {
      "text/plain": [
       "<matplotlib.legend.Legend at 0x234c15973c8>"
      ]
     },
     "execution_count": 34,
     "metadata": {},
     "output_type": "execute_result"
    },
    {
     "data": {
      "image/png": "[encoded data removed]",
      "text/plain": [
       "<matplotlib.figure.Figure at 0x234c0274780>"
      ]
     },
     "metadata": {},
     "output_type": "display_data"
    },
    {
     "data": {
      "image/png": "[encoded data removed]",
      "text/plain": [
       "<matplotlib.figure.Figure at 0x234c1530668>"
      ]
     },
     "metadata": {},
     "output_type": "display_data"
    },
    {
     "data": {
      "image/png": "[encoded data removed]",
      "text/plain": [
       "<matplotlib.figure.Figure at 0x234c1585080>"
      ]
     },
     "metadata": {},
     "output_type": "display_data"
    }
   ],
   "source": [
    "# Componente x\n",
    "plt.figure(1)\n",
    "plt.title('Espectro no filtrado - Componente x')\n",
    "plt.ylabel('PSD [cm^2/s]')\n",
    "plt.xlabel('f [Hz]')\n",
    "plt.loglog(fx,psdx_unf)\n",
    "plt.loglog(fx,noisex*np.ones(len(fx)))\n",
    "plt.legend(['PSD','Doppler noise'])\n",
    "\n",
    "# Componente y\n",
    "plt.figure(2)\n",
    "plt.title('Espectro no filtrado - Componente y')\n",
    "plt.ylabel('PSD [cm^2/s]')\n",
    "plt.xlabel('f [Hz]')\n",
    "plt.loglog(fy,psdy_unf)\n",
    "plt.loglog(fy,noisey*np.ones(len(fy)))\n",
    "plt.legend(['PSD','Doppler noise'])\n",
    "\n",
    "# Componente z\n",
    "plt.figure(3)\n",
    "plt.title('Espectro no filtrado - Componente z')\n",
    "plt.ylabel('PSD [cm^2/s]')\n",
    "plt.xlabel('f [Hz]')\n",
    "plt.loglog(fz,psdz_unf)\n",
    "plt.loglog(fz,noisez*np.ones(len(fz)))\n",
    "plt.legend(['PSD','Doppler noise'])"
   ]
  },
  {
   "cell_type": "markdown",
   "metadata": {},
   "source": [
    "### Cálculo de PSD filtrada"
   ]
  },
  {
   "cell_type": "code",
   "execution_count": 35,
   "metadata": {},
   "outputs": [],
   "source": [
    "psdx = psdx_unf - noisex*np.ones(len(psdx_unf))\n",
    "psdy = psdy_unf - noisey*np.ones(len(psdy_unf))\n",
    "psdz = psdz_unf - noisez*np.ones(len(psdz_unf))"
   ]
  },
  {
   "cell_type": "markdown",
   "metadata": {},
   "source": [
    "## Cálculo de estadísticos y cantidades turbulentas"
   ]
  },
  {
   "cell_type": "markdown",
   "metadata": {},
   "source": [
    "### Valor medio"
   ]
  },
  {
   "cell_type": "code",
   "execution_count": 36,
   "metadata": {},
   "outputs": [
    {
     "data": {
      "text/plain": [
       "'Velocidad media dirección x (cm/s): -0.68265194'"
      ]
     },
     "metadata": {},
     "output_type": "display_data"
    },
    {
     "data": {
      "text/plain": [
       "'Velocidad media dirección y (cm/s): -0.09528256'"
      ]
     },
     "metadata": {},
     "output_type": "display_data"
    },
    {
     "data": {
      "text/plain": [
       "'Velocidad media dirección z (cm/s): 0.04070499'"
      ]
     },
     "metadata": {},
     "output_type": "display_data"
    }
   ],
   "source": [
    "Vx = np.nanmean(Vx_raw)\n",
    "Vy = np.nanmean(Vy_raw)\n",
    "Vz = np.nanmean(Vz_raw)\n",
    "\n",
    "display('Velocidad media dirección x (cm/s): '+str(Vx))\n",
    "display('Velocidad media dirección y (cm/s): '+str(Vy))\n",
    "display('Velocidad media dirección z (cm/s): '+str(Vz))"
   ]
  },
  {
   "cell_type": "markdown",
   "metadata": {},
   "source": [
    "### Fluctuaciones"
   ]
  },
  {
   "cell_type": "code",
   "execution_count": 37,
   "metadata": {},
   "outputs": [],
   "source": [
    "vx = Vx_int-np.nanmean(Vx_int)\n",
    "vy = Vy_int-np.nanmean(Vy_int)\n",
    "vz = Vz_int-np.nanmean(Vz_int)"
   ]
  },
  {
   "cell_type": "markdown",
   "metadata": {},
   "source": [
    "### Varianzas"
   ]
  },
  {
   "cell_type": "code",
   "execution_count": 38,
   "metadata": {},
   "outputs": [
    {
     "data": {
      "text/plain": [
       "'Varianza no corregida por ruido Doppler, dirección x (cm2/s2): 0.10019375'"
      ]
     },
     "metadata": {},
     "output_type": "display_data"
    },
    {
     "data": {
      "text/plain": [
       "'Varianza no corregida por ruido Doppler, dirección y (cm2/s2): 0.28837922'"
      ]
     },
     "metadata": {},
     "output_type": "display_data"
    },
    {
     "data": {
      "text/plain": [
       "'Varianza no corregida por ruido Doppler, dirección z (cm2/s2): 0.033328455'"
      ]
     },
     "metadata": {},
     "output_type": "display_data"
    }
   ],
   "source": [
    "# Sin corrección por ruido Doppler\n",
    "varx_unc = np.nanvar(Vx_gn)\n",
    "vary_unc = np.nanvar(Vy_gn)\n",
    "varz_unc = np.nanvar(Vz_gn)\n",
    "\n",
    "display('Varianza no corregida por ruido Doppler, dirección x (cm2/s2): '+str(varx_unc))\n",
    "display('Varianza no corregida por ruido Doppler, dirección y (cm2/s2): '+str(vary_unc))\n",
    "display('Varianza no corregida por ruido Doppler, dirección z (cm2/s2): '+str(varz_unc))"
   ]
  },
  {
   "cell_type": "code",
   "execution_count": 39,
   "metadata": {},
   "outputs": [
    {
     "data": {
      "text/plain": [
       "'Varianza corregida por ruido Doppler, dirección x (cm2/s2): [0.05842692]'"
      ]
     },
     "metadata": {},
     "output_type": "display_data"
    },
    {
     "data": {
      "text/plain": [
       "'Varianza corregida por ruido Doppler, dirección y (cm2/s2): [0.04175308]'"
      ]
     },
     "metadata": {},
     "output_type": "display_data"
    },
    {
     "data": {
      "text/plain": [
       "'Varianza corregida por ruido Doppler, dirección z (cm2/s2): [0.00600523]'"
      ]
     },
     "metadata": {},
     "output_type": "display_data"
    }
   ],
   "source": [
    "# Corregidas por ruido Doppler\n",
    "# Serie temporal\n",
    "uu = vx*vx\n",
    "vv = vy*vy\n",
    "ww = vz*vz\n",
    "\n",
    "# Varianzas medias\n",
    "varx = varx_unc - noisex*fs/2\n",
    "vary = vary_unc - noisey*fs/2\n",
    "varz = varz_unc - noisez*fs/2\n",
    "\n",
    "display('Varianza corregida por ruido Doppler, dirección x (cm2/s2): '+str(varx))\n",
    "display('Varianza corregida por ruido Doppler, dirección y (cm2/s2): '+str(vary))\n",
    "display('Varianza corregida por ruido Doppler, dirección z (cm2/s2): '+str(varz))"
   ]
  },
  {
   "cell_type": "markdown",
   "metadata": {},
   "source": [
    "### Tensiones de Reynolds"
   ]
  },
  {
   "cell_type": "code",
   "execution_count": 40,
   "metadata": {},
   "outputs": [
    {
     "data": {
      "text/plain": [
       "'Covarianza, direcciones xy (cm2/s2): 0.05589509'"
      ]
     },
     "metadata": {},
     "output_type": "display_data"
    },
    {
     "data": {
      "text/plain": [
       "'Covarianza, direcciones xz (cm2/s2): -0.02740503'"
      ]
     },
     "metadata": {},
     "output_type": "display_data"
    },
    {
     "data": {
      "text/plain": [
       "'Covarianza, direcciones yz (cm2/s2): -0.0013715032'"
      ]
     },
     "metadata": {},
     "output_type": "display_data"
    }
   ],
   "source": [
    "# Serie temporal de tensiones de Reynolds\n",
    "uv = vx*vy\n",
    "uw = vx*vz\n",
    "vw = vy*vz\n",
    "\n",
    "# Tensiones de Reynolds medias\n",
    "covaruv = np.mean(Vx_int*Vy_int)\n",
    "covaruw = np.mean(Vx_int*Vz_int)\n",
    "covarvw = np.mean(Vy_int*Vz_int)\n",
    "\n",
    "display('Covarianza, direcciones xy (cm2/s2): ' + str(covaruv))\n",
    "display('Covarianza, direcciones xz (cm2/s2): ' + str(covaruw))\n",
    "display('Covarianza, direcciones yz (cm2/s2): ' + str(covarvw))"
   ]
  },
  {
   "cell_type": "markdown",
   "metadata": {},
   "source": [
    "### Energía cinética turbulenta"
   ]
  },
  {
   "cell_type": "code",
   "execution_count": 41,
   "metadata": {},
   "outputs": [
    {
     "data": {
      "text/plain": [
       "'Energía cinética turbulenta (cm2/s2): [0.05309262]'"
      ]
     },
     "metadata": {},
     "output_type": "display_data"
    }
   ],
   "source": [
    "# Serie temporal de energía cinética turbulenta\n",
    "tke = 0.5*(uu + vv + ww)\n",
    "\n",
    "# Energía cinética turbulenta media\n",
    "TKE = 0.5*(varx+vary+varz)\n",
    "\n",
    "display('Energía cinética turbulenta (cm2/s2): ' + str(TKE))"
   ]
  },
  {
   "cell_type": "markdown",
   "metadata": {},
   "source": [
    "### Intensidad de turbulencia"
   ]
  },
  {
   "cell_type": "code",
   "execution_count": 42,
   "metadata": {},
   "outputs": [
    {
     "data": {
      "text/plain": [
       "'Intensidad de turbulencia, dirección x: [0.35408473]'"
      ]
     },
     "metadata": {},
     "output_type": "display_data"
    },
    {
     "data": {
      "text/plain": [
       "'Intensidad de turbulencia, dirección y: [2.1445239]'"
      ]
     },
     "metadata": {},
     "output_type": "display_data"
    },
    {
     "data": {
      "text/plain": [
       "'Intensidad de turbulencia, dirección z: [1.903781]'"
      ]
     },
     "metadata": {},
     "output_type": "display_data"
    },
    {
     "data": {
      "text/plain": [
       "'Intensidad de turbulencia: [0.27247483]'"
      ]
     },
     "metadata": {},
     "output_type": "display_data"
    }
   ],
   "source": [
    "Itx = np.sqrt(varx)/np.abs(Vx)\n",
    "Ity = np.sqrt(vary)/np.abs(Vy)\n",
    "Itz = np.sqrt(varz)/np.abs(Vz)\n",
    "It = np.sqrt(1/3*(varx+vary+varz))/np.sqrt(Vx**2+Vy**2+Vz**2)\n",
    "\n",
    "display('Intensidad de turbulencia, dirección x: ' + str(Itx))\n",
    "display('Intensidad de turbulencia, dirección y: ' + str(Ity))\n",
    "display('Intensidad de turbulencia, dirección z: ' + str(Itz))\n",
    "display('Intensidad de turbulencia: ' + str(It))"
   ]
  },
  {
   "cell_type": "markdown",
   "metadata": {},
   "source": [
    "## Método Bootstrap para la determinación del tiempo óptimo de medición"
   ]
  },
  {
   "cell_type": "markdown",
   "metadata": {},
   "source": [
    "Los tiempos de medición óptimos se determinan analizando la incertidumbre esperada en la estimación de los paramentos\n",
    "turbulentos, sobre la base de series de velocidad de larga duración registradas en diversas localizaciones, las que a su vez serán sub-muestreadas con distintas duraciones. Para cada una de las sub-series conformadas se aplica la técnica de remuestreo MBB para estimar la incertidumbre de los siguientes parámetros:\n",
    "1. Velocidades medias\n",
    "2. Varianzas\n",
    "3. Energía cinética turbulenta\n",
    "4. Tensiones de Reynolds\n",
    "\n",
    "En cada caso la técnica MBB se aplica con 1000 replicaciones. Sobre la base de los resultados proporcionados se calcularon los correspondientes coeficientes de variación, CV, definidos como la relación entre el error desvío estándar y el valor medio de cada parámetro."
   ]
  },
  {
   "cell_type": "code",
   "execution_count": 43,
   "metadata": {},
   "outputs": [],
   "source": [
    "# Definición de la función 'bootstrap' de aplicación de la técnica MBB\n",
    "def bootstrap(v,Tblock,nboot):\n",
    "    b = math.ceil(Tblock*fs) # Longitud de cada bloque\n",
    "    nblock = int(len(v)/b) # Número de bloques en una serie artificial\n",
    "    vc = np.zeros((len(v)-b+1,b)) # Variable con los N-b+1 posibles bloques de long. b\n",
    "    #vartif = np.zeros((nboot,nblock*b)) # Variable con las nboot series artificiales de long. nblock*b\n",
    "    vmean = np.zeros(nboot)\n",
    "    for i in range(len(v)-b+1):\n",
    "        vc[i,:] = np.copy(v[i:i+b])\n",
    "    for j in range(nboot):\n",
    "        d = vc[random.sample(list(range(vc.shape[0])),nblock),:] # Selección random de nblock bloques\n",
    "        #vartif[j,:] = np.reshape(d,(1,d.shape[0]*d.shape[1])) # Ordenamiento de la matriz d\n",
    "        vmean[j] = np.nanmean(d) # Serie de medias de las series artificiales de velocidad\n",
    "    return np.mean(vmean), np.var(vmean)"
   ]
  },
  {
   "cell_type": "code",
   "execution_count": 44,
   "metadata": {},
   "outputs": [],
   "source": [
    "# Definición de la función 'bopt' para la determinación de la longitud de bloque óptimo\n",
    "def bopt(vx,Tm): # vx: señal de velocidad, Tm: tiempo de medición\n",
    "    acfunc = acf(vx-np.mean(vx), nlags=len(vx), fft=False, unbiased=True) # Función autocorrelación\n",
    "    zero_crossings = np.where(np.diff(np.sign(acfunc)))[0]\n",
    "    Tx = np.trapz(acfunc[0:zero_crossings[0]],(1/fs)*range(zero_crossings[0])) # Escala de tiempo integral\n",
    "    bop = 0.788 * Tx**(2/3) * Tm**(1/3)\n",
    "    return bop"
   ]
  },
  {
   "cell_type": "code",
   "execution_count": 45,
   "metadata": {},
   "outputs": [],
   "source": [
    "# Cálculo de los vectores tiempos de medición (Tm) y tamaños de bloque óptimos para distintos Tm\n",
    "V = Vx_int # Señal de velocidad\n",
    "Ttot = (1/fs)*(len(V)-1)/60 # Tiempo total de medición, en minutos\n",
    "Tm = np.linspace(1,int(Ttot),20) # Tiempos de medición considerados para el análisis, en minutos\n",
    "bop = np.zeros(len(Tm))\n",
    "\n",
    "for i in range(len(Tm)):\n",
    "    vi = V[0:int(Tm[i]*60*fs)] # Sub-muestra del registro de velocidad\n",
    "    bop[i] = bopt(vi,Tm[i])"
   ]
  },
  {
   "cell_type": "markdown",
   "metadata": {},
   "source": [
    "### Velocidades medias"
   ]
  },
  {
   "cell_type": "code",
   "execution_count": 46,
   "metadata": {},
   "outputs": [],
   "source": [
    "# Aplicación de MBB para distintas duraciones\n",
    "V = Vx_int # Señal de larga duración a evaluar\n",
    "vmean = np.zeros(len(Tm))\n",
    "vvar = np.zeros(len(Tm))\n",
    "cv = np.zeros(len(Tm))\n",
    "\n",
    "for i in range(len(Tm)):\n",
    "    vi = V[0:int(Tm[i]*60*fs)] # Sub-muestra del registro de velocidad\n",
    "    vmean[i],vvar[i] = bootstrap(vi,bop[i],1000)    \n",
    "    cv[i] = np.sqrt(vvar[i])/np.absolute(vmean[i])"
   ]
  },
  {
   "cell_type": "code",
   "execution_count": 47,
   "metadata": {},
   "outputs": [
    {
     "data": {
      "text/plain": [
       "Text(0,0.5,'Coeficiente de variación [-]')"
      ]
     },
     "execution_count": 47,
     "metadata": {},
     "output_type": "execute_result"
    },
    {
     "data": {
      "image/png": "[encoded data removed]",
      "text/plain": [
       "<matplotlib.figure.Figure at 0x234c1547da0>"
      ]
     },
     "metadata": {},
     "output_type": "display_data"
    }
   ],
   "source": [
    "# Gráfico\n",
    "plt.plot(Tm,cv)\n",
    "plt.plot(Tm,cv,'o')\n",
    "#plt.plot([0, Tm[-1]*1.1],cv[-1]*1.1*np.ones(2),'k--',linewidth=0.5)\n",
    "#plt.plot([0, Tm[-1]*1.1],cv[-1]*0.9*np.ones(2),'k--',linewidth=0.5)\n",
    "plt.xlim(0,Tm[-1]*1.1)\n",
    "plt.title('Determinación del tiempo de medición óptimo - Velocidad media')\n",
    "plt.xlabel('Tiempo de medición [min]')\n",
    "plt.ylabel('Coeficiente de variación [-]')"
   ]
  },
  {
   "cell_type": "markdown",
   "metadata": {},
   "source": [
    "### Varianzas"
   ]
  },
  {
   "cell_type": "code",
   "execution_count": 48,
   "metadata": {},
   "outputs": [],
   "source": [
    "# Aplicación de MBB para distintas duraciones\n",
    "V = uu # Señal de larga duración a evaluar\n",
    "vmean = np.zeros(len(Tm))\n",
    "vvar = np.zeros(len(Tm))\n",
    "cv = np.zeros(len(Tm))\n",
    "\n",
    "for i in range(len(Tm)):\n",
    "    vi = V[0:int(Tm[i]*60*fs)] # Sub-muestra del registro de velocidad\n",
    "    vmean[i],vvar[i] = bootstrap(vi,bop[i],1000)    \n",
    "    cv[i] = np.sqrt(vvar[i])/np.absolute(vmean[i])"
   ]
  },
  {
   "cell_type": "code",
   "execution_count": 49,
   "metadata": {},
   "outputs": [
    {
     "data": {
      "text/plain": [
       "Text(0,0.5,'Coeficiente de variación [-]')"
      ]
     },
     "execution_count": 49,
     "metadata": {},
     "output_type": "execute_result"
    },
    {
     "data": {
      "image/png": "[encoded data removed]",
      "text/plain": [
       "<matplotlib.figure.Figure at 0x234c1b4f0f0>"
      ]
     },
     "metadata": {},
     "output_type": "display_data"
    }
   ],
   "source": [
    "# Gráfico\n",
    "plt.plot(Tm,cv)\n",
    "plt.plot(Tm,cv,'o')\n",
    "#plt.plot([0, Tm[-1]*1.1],cv[-1]*1.1*np.ones(2),'k--',linewidth=0.5)\n",
    "#plt.plot([0, Tm[-1]*1.1],cv[-1]*0.9*np.ones(2),'k--',linewidth=0.5)\n",
    "plt.xlim(0,Tm[-1]*1.1)\n",
    "plt.title('Determinación del tiempo de medición óptimo - Varianzas')\n",
    "plt.xlabel('Tiempo de medición [min]')\n",
    "plt.ylabel('Coeficiente de variación [-]')"
   ]
  },
  {
   "cell_type": "markdown",
   "metadata": {},
   "source": [
    "### Energía cinética turbulenta"
   ]
  },
  {
   "cell_type": "code",
   "execution_count": 50,
   "metadata": {},
   "outputs": [],
   "source": [
    "# Aplicación de MBB para distintas duraciones\n",
    "V = tke # Señal de larga duración a evaluar\n",
    "vmean = np.zeros(len(Tm))\n",
    "vvar = np.zeros(len(Tm))\n",
    "cv = np.zeros(len(Tm))\n",
    "\n",
    "for i in range(len(Tm)):\n",
    "    vi = V[0:int(Tm[i]*60*fs)] # Sub-muestra del registro de velocidad\n",
    "    vmean[i],vvar[i] = bootstrap(vi,bop[i],1000)    \n",
    "    cv[i] = np.sqrt(vvar[i])/np.absolute(vmean[i])"
   ]
  },
  {
   "cell_type": "code",
   "execution_count": 51,
   "metadata": {},
   "outputs": [
    {
     "data": {
      "text/plain": [
       "Text(0,0.5,'Coeficiente de variación [-]')"
      ]
     },
     "execution_count": 51,
     "metadata": {},
     "output_type": "execute_result"
    },
    {
     "data": {
      "image/png": "[encoded data removed]",
      "text/plain": [
       "<matplotlib.figure.Figure at 0x234c1c44b70>"
      ]
     },
     "metadata": {},
     "output_type": "display_data"
    }
   ],
   "source": [
    "# Gráfico\n",
    "plt.plot(Tm,cv)\n",
    "plt.plot(Tm,cv,'o')\n",
    "#plt.plot([0, Tm[-1]*1.1],cv[-1]*1.1*np.ones(2),'k--',linewidth=0.5)\n",
    "#plt.plot([0, Tm[-1]*1.1],cv[-1]*0.9*np.ones(2),'k--',linewidth=0.5)\n",
    "plt.xlim(0,Tm[-1]*1.1)\n",
    "plt.title('Determinación del tiempo de medición óptimo - TKE')\n",
    "plt.xlabel('Tiempo de medición [min]')\n",
    "plt.ylabel('Coeficiente de variación [-]')"
   ]
  },
  {
   "cell_type": "markdown",
   "metadata": {},
   "source": [
    "### Tensiones de Reynolds"
   ]
  },
  {
   "cell_type": "code",
   "execution_count": 52,
   "metadata": {},
   "outputs": [],
   "source": [
    "# Aplicación de MBB para distintas duraciones\n",
    "V = uv # Señal de larga duración a evaluar\n",
    "vmean = np.zeros(len(Tm))\n",
    "vvar = np.zeros(len(Tm))\n",
    "cv = np.zeros(len(Tm))\n",
    "\n",
    "for i in range(len(Tm)):\n",
    "    vi = V[0:int(Tm[i]*60*fs)] # Sub-muestra del registro de velocidad\n",
    "    vmean[i],vvar[i] = bootstrap(vi,bop[i],1000)    \n",
    "    cv[i] = np.sqrt(vvar[i])/np.absolute(vmean[i])"
   ]
  },
  {
   "cell_type": "code",
   "execution_count": 53,
   "metadata": {},
   "outputs": [
    {
     "data": {
      "text/plain": [
       "Text(0,0.5,'Coeficiente de variación [-]')"
      ]
     },
     "execution_count": 53,
     "metadata": {},
     "output_type": "execute_result"
    },
    {
     "data": {
      "image/png": "[encoded data removed]",
      "text/plain": [
       "<matplotlib.figure.Figure at 0x234c1ccd1d0>"
      ]
     },
     "metadata": {},
     "output_type": "display_data"
    }
   ],
   "source": [
    "# Gráfico\n",
    "plt.plot(Tm,cv)\n",
    "plt.plot(Tm,cv,'o')\n",
    "#plt.plot([0, Tm[-1]*1.1],cv[-1]*1.1*np.ones(2),'k--',linewidth=0.5)\n",
    "#plt.plot([0, Tm[-1]*1.1],cv[-1]*0.9*np.ones(2),'k--',linewidth=0.5)\n",
    "plt.xlim(0,Tm[-1]*1.1)\n",
    "plt.title('Determinación del tiempo de medición óptimo - Tensiones de Reynolds')\n",
    "plt.xlabel('Tiempo de medición [min]')\n",
    "plt.ylabel('Coeficiente de variación [-]')"
   ]
  },
  {
   "cell_type": "markdown",
   "metadata": {},
   "source": [
    "## Referencias"
   ]
  },
  {
   "cell_type": "markdown",
   "metadata": {},
   "source": [
    "* García C.M., Scacchi G., Herrero H.S., Díaz Lozada J.M., Pedocchi F., Niño Y. y García M.H. (2016). \"Guía práctica para realizar mediciones de velocidad en flujos turbulentos con ADV. Versión 2016\". Extraído de: Scacchi G. (2017) \"Interacción entre el flujo turbulento y los procesos de erosión junto a estribos de puentes protegidos. Estudio experimental\"\n",
    "\n",
    "* García C., Cantero M., Niño Y., and García M. (2005). “Turbulence measurements with Acoustic Doppler Velocimeters”. J.Hydr. Engrg. ASCE. 131, 1062-1073.\n",
    "\n",
    "* García C. (). \"Turbulence measurements using accoustic Doppler velocimeters\".\n",
    "\n",
    "* García C., Jackson P., and García M. (2006). “Confidence intervals in the determination of turbulence parameters”. Experiment in Fluids. 40: 514 – 522.\n",
    "\n",
    "* Goring D., Nikora, V. (2002). \"Despiking Acoustic Doppler Velocimeter Data\". J. Hydr. Engrg. ASCE, Volume 128, (1), 117-126.\n",
    "\n",
    "* Lemmin U., and Lhermitte R. (1999). “Discussion of ‘ADV measurements of turbulence: Can we improve their interpretation?’ by Nikora,V., and Goring, D.” J.Hydr. Engrg. ASCE. 125, 987-988.\n",
    "\n",
    "* McLelland S. and Nicholas A. (2000). \"A new method for evaluating errors in high frequency ADV measurements\". Hydrological Processes. 14, 351-366.\n",
    "\n",
    "* Nikora V., and Goring D. (1998). \"ADV measuremets of turbulence: Can we improve their interpretation?\" J.Hydr. Engrg. ASCE. 124, 630-634.\n",
    "\n",
    "* Voulgaris G., and Trowbridge J. (1998). \"Evaluation of the acoustic Doppler velocimeter (ADV) for turbulence measurements\". Journal of Atmospheric and Oceanic Technology. 15, 272-288."
   ]
  }
 ],
 "metadata": {
  "kernelspec": {
   "display_name": "Python 3",
   "language": "python",
   "name": "python3"
  },
  "language_info": {
   "codemirror_mode": {
    "name": "ipython",
    "version": 3
   },
   "file_extension": ".py",
   "mimetype": "text/x-python",
   "name": "python",
   "nbconvert_exporter": "python",
   "pygments_lexer": "ipython3",
   "version": "3.6.4"
  }
 },
 "nbformat": 4,
 "nbformat_minor": 2
}
