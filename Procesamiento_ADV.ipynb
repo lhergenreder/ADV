{
 "cells": [
  {
   "cell_type": "markdown",
   "metadata": {},
   "source": [
    "# Procesamiento de señales de velocidad obtenidas a partir de un ADV"
   ]
  },
  {
   "cell_type": "markdown",
   "metadata": {},
   "source": [
    "El presente es un documento interactivo con análisis básicos aplicados a señales de flujos turbulentos obtenidas a través de un ADV Sontek 16MHz. Las indicaciones se basaron principalmente en el trabajo *GUÍA PRÁCTICA PARA REALIZAR MEDICIONES DE VELOCIDAD EN FLUJOS TURBULENTOS CON ADV. Versión 2016* (García, et al. 2016).\n",
    "\n",
    "Los procedimientos presentados deben aplicarse a un archivo _*Vf_ producido por el software _WinADV_. Se requiere que la señal a analizar sea procesada para eliminar los valores anómalos (*spikes*) previamente, con un filtro como el *Phase-space Threshold* (Goring y Nikora, 2002). En la elaboración del documento se consideró que los valores anómalos descartados fueron reemplazados con el indicador \"-99\". "
   ]
  },
  {
   "cell_type": "markdown",
   "metadata": {},
   "source": [
    "## Importar librerías"
   ]
  },
  {
   "cell_type": "code",
   "execution_count": 258,
   "metadata": {},
   "outputs": [],
   "source": [
    "import numpy as np\n",
    "import matplotlib.mlab as mlab\n",
    "import matplotlib.pyplot as plt\n",
    "import random\n",
    "import time\n",
    "from statsmodels.tsa.stattools import acf\n",
    "import ipywidgets as widgets"
   ]
  },
  {
   "cell_type": "markdown",
   "metadata": {},
   "source": [
    "## Cargar series"
   ]
  },
  {
   "cell_type": "markdown",
   "metadata": {},
   "source": [
    "Importación de los archivos de extensión _*.Vf_, producidos por el software *WinADV*. Se considera que el encabezado está compuesto por 9 líneas y que se utiliza punto y coma (;) para delimitar las columnas."
   ]
  },
  {
   "cell_type": "code",
   "execution_count": 307,
   "metadata": {},
   "outputs": [],
   "source": [
    "path = 'E:\\\\PROYECTOS\\\\ADV\\\\ADV-Notebooks\\\\python_script'\n",
    "file = '20181227_0010.Vf'\n",
    "data = np.genfromtxt(path+'\\\\'+file, delimiter=\";\", skip_header=9)"
   ]
  },
  {
   "cell_type": "markdown",
   "metadata": {},
   "source": [
    "Reemplazo del indicador de valores anómalos reemplazados (-99) por NaNs."
   ]
  },
  {
   "cell_type": "code",
   "execution_count": 308,
   "metadata": {},
   "outputs": [],
   "source": [
    "data[data==-99]=np.nan"
   ]
  },
  {
   "cell_type": "markdown",
   "metadata": {},
   "source": [
    "Extracción de series de tiempo y velocidades medidas en las tres dimensiones ($Vx_{raw}$, $Vy_{raw}$,$Vz_{raw}$)."
   ]
  },
  {
   "cell_type": "code",
   "execution_count": 309,
   "metadata": {},
   "outputs": [],
   "source": [
    "# Serie de tiempo\n",
    "time  = np.copy(data[:,0])\n",
    "\n",
    "# Velocidades\n",
    "Vx_raw = np.copy(data[:,3])\n",
    "Vy_raw = np.copy(data[:,4])\n",
    "Vz_raw = np.copy(data[:,5])\n",
    "\n",
    "# Correlación media para todos los beams\n",
    "Cor_med = np.copy(data[:,15])\n",
    "\n",
    "# Señal ruido (SNR) media para todos los beams\n",
    "SNR_med = np.copy(data[:,16])"
   ]
  },
  {
   "cell_type": "markdown",
   "metadata": {},
   "source": [
    "Definición de la frecuencia de muestreo $fs$."
   ]
  },
  {
   "cell_type": "code",
   "execution_count": 310,
   "metadata": {},
   "outputs": [],
   "source": [
    "fs = 1//(time[1]-time[0])"
   ]
  },
  {
   "cell_type": "markdown",
   "metadata": {},
   "source": [
    "## Calidad de la señal"
   ]
  },
  {
   "cell_type": "markdown",
   "metadata": {},
   "source": [
    "### Señal ruido (SNR)"
   ]
  },
  {
   "cell_type": "markdown",
   "metadata": {},
   "source": [
    "La $SNR$ relaciona la amplitud de la señal acústica recibida y el ruido ambiente. Es un indicador de la cantidad de partículas presentes en el agua (sedimentos, organismos pequeños, burbujas) que reflejarán los pulsos acústicos. **Valores menores a 15 db indicarían la presencia de pocas particulas, y la necesidad de adicionarlas.** (García, et al.2016)"
   ]
  },
  {
   "cell_type": "code",
   "execution_count": 311,
   "metadata": {},
   "outputs": [
    {
     "data": {
      "text/plain": [
       "'SNR media (dB): 25.663775544165606'"
      ]
     },
     "metadata": {},
     "output_type": "display_data"
    },
    {
     "data": {
      "text/plain": [
       "'SNR varianza (dB^2): 11.946137033291281'"
      ]
     },
     "metadata": {},
     "output_type": "display_data"
    }
   ],
   "source": [
    "display('SNR media (dB): '+ str(np.nanmean(SNR_med)))\n",
    "display('SNR varianza (dB^2): '+ str(np.nanvar(SNR_med)))"
   ]
  },
  {
   "cell_type": "markdown",
   "metadata": {},
   "source": [
    "### Correlación"
   ]
  },
  {
   "cell_type": "markdown",
   "metadata": {},
   "source": [
    "**Generalmente, se requiere un parámetro de correlación mayor al 70% para obtener una buena representación del flujo.** (García )"
   ]
  },
  {
   "cell_type": "code",
   "execution_count": 312,
   "metadata": {},
   "outputs": [
    {
     "data": {
      "text/plain": [
       "'Correlación media (%): 97.68941622844972'"
      ]
     },
     "metadata": {},
     "output_type": "display_data"
    },
    {
     "data": {
      "text/plain": [
       "'Correlación varianza (%): 1.1388735392613663'"
      ]
     },
     "metadata": {},
     "output_type": "display_data"
    }
   ],
   "source": [
    "display('Correlación media (%): '+ str(np.nanmean(Cor_med)))\n",
    "display('Correlación varianza (%): '+ str(np.nanvar(Cor_med)))"
   ]
  },
  {
   "cell_type": "markdown",
   "metadata": {},
   "source": [
    "### Cantidad de valores anómalos filtrados"
   ]
  },
  {
   "cell_type": "markdown",
   "metadata": {},
   "source": [
    "Las señales de velocidad del flujo pueden presentar en algunos casos, valores extremos anómalos (denominados “spikes” en inglés), originados por distintas razones como por ejemplo la presencia de velocidades de flujo que exceden al rango de velocidad seleccionado en la configuración del instrumento, por contaminación de pulsos previos reflejados desde contornos de geometrías complejas, por falta de partículas trazadoras en el agua, cuando los niveles de turbulencia son muy elevados, etc. Estos valores anómalos presentes en la señal generan errores (sesgo) en la determinación de los parámetros de la turbulencia que se estiman sobre la base de estas series (García et al. 2016).\n",
    "La técnica de detección empleada más extensivamente es la denominada *Phase Space Threshold* (Goring y Nikora, 2002)."
   ]
  },
  {
   "cell_type": "code",
   "execution_count": 313,
   "metadata": {},
   "outputs": [
    {
     "data": {
      "text/plain": [
       "'Valores filtrados Vx (%): 3.392173885084081'"
      ]
     },
     "metadata": {},
     "output_type": "display_data"
    },
    {
     "data": {
      "text/plain": [
       "'Valores filtrados Vy (%): 3.392173885084081'"
      ]
     },
     "metadata": {},
     "output_type": "display_data"
    },
    {
     "data": {
      "text/plain": [
       "'Valores filtrados Vz (%): 3.392173885084081'"
      ]
     },
     "metadata": {},
     "output_type": "display_data"
    }
   ],
   "source": [
    "display('Valores filtrados Vx (%): '+str(100*np.count_nonzero(np.isnan(Vx_raw))/len(Vx_raw)))\n",
    "display('Valores filtrados Vy (%): '+str(100*np.count_nonzero(np.isnan(Vy_raw))/len(Vy_raw)))\n",
    "display('Valores filtrados Vz (%): '+str(100*np.count_nonzero(np.isnan(Vz_raw))/len(Vz_raw)))"
   ]
  },
  {
   "cell_type": "markdown",
   "metadata": {},
   "source": [
    "## Reemplazo de valores anómalos filtrados"
   ]
  },
  {
   "cell_type": "markdown",
   "metadata": {},
   "source": [
    "El reemplazo del valor anómalo detectado no es requerido para el cálculo de los momentos estadísticos pero es esencial para los cálculos de todos los parámetros de la turbulencia derivados a partir del espectro de energía y de las funciones de autocorrelación. Entre las técnicas de reemplazo de valores anómalos más utilizados se pueden mencionar al reemplazo con el último valor correcto registrado previamente, al reemplazo con el valor interpolado a partir del ajuste a un polinomio de tercer grado utilizando 12 puntos válidos a cada lado del dato anómalo (24 datos en total, Goring and Nikora 2002) y el reemplazo por una simple interpolación lineal entre los datos válidos registrados antes y después del valor anómalo.\n",
    "\n",
    "En el siguiente caso se empleará una interpolación lineal para el reemplazo de los puntos eliminados."
   ]
  },
  {
   "cell_type": "code",
   "execution_count": 314,
   "metadata": {},
   "outputs": [],
   "source": [
    "# Definición de la función de reemplazo 'lininterp'\n",
    "def lininterp(a):\n",
    "    b = np.copy(a)\n",
    "    ok = ~np.isnan(b)\n",
    "    xp = ok.ravel().nonzero()[0]\n",
    "    fp = b[~np.isnan(b)]\n",
    "    x  = np.isnan(b).ravel().nonzero()[0]\n",
    "    b[np.isnan(b)] = np.interp(x, xp, fp)\n",
    "    return b"
   ]
  },
  {
   "cell_type": "code",
   "execution_count": 315,
   "metadata": {},
   "outputs": [],
   "source": [
    "# Velocidades con valores filtrados reemplazados\n",
    "Vx_int = lininterp(Vx_raw)\n",
    "Vy_int = lininterp(Vy_raw)\n",
    "Vz_int = lininterp(Vz_raw)"
   ]
  },
  {
   "cell_type": "markdown",
   "metadata": {},
   "source": [
    "## Extracción del ruido Doppler"
   ]
  },
  {
   "cell_type": "markdown",
   "metadata": {},
   "source": [
    "Nikora and Goring (1998) señalaron que la principal fuente de ruido en las mediciones que se realizan con velocímetros acústico doppler es el ruido Doppler. García et al. (2005) analizaron la importancia relativa de la energía del ruido Doppler con respecto al total de la energía turbulenta capturada con los ADV, señalando que cuando el impacto del ruido es alto se\n",
    "requieren correcciones a los parámetros de la turbulencia que se estimen. El ruido Doppler tiene las características del ruido blanco (Nikora and Goring 1998; Lemming and Lhermitte 1999; Mc Lelland and Nicholas 2000) con una distribución de probabilidad\n",
    "Gaussiana, esto es media cero y varianza finita (Nikora and Goring 1998), así como también un espectro de potencia plano (Anderson and Lohrmann 1995), es decir afecta de igual modo a todas las componentes de frecuencias de la señal ( espectro de potencia constante sobre el rango de frecuencias muestreadas) lo cual indica la presencia de ruido sin correlación. La presencia de ruido blanco en las señales de velocidad medidas con ADV no afecta el cálculo de los valores medios (Nikora and Goring, 1998; Voulgaris and Trowbridge 1998) ni el de las Tensiones de Reynolds (McLelland and Nicholas, 2000), mientras que las estimaciones de la energía cinética turbulenta se encuentra sesgada hacia valores más altos (Nikora and Goring 1998). Puesto que el ruido blanco produce falta de correlación en la señal la función de autocorrelación reduce su valor a cero más rápido que cuando se verifica presencia de ruido, al tiempo que el espectro de potencia resulta sesgado a valores altos (Lohrmann et al. 1994; Nikora and Goring 1998)."
   ]
  },
  {
   "cell_type": "markdown",
   "metadata": {},
   "source": [
    "Para señales de relativa baja energía, el ruido blanco puede detectarse como un aplanamiento del espectro próximo a la frecuencia de Nyquist (*fs/2*) (García 2005). En esos casos Nikora and Goring (1998) sugieren que el espectro de dicho ruido se puede representar por una línea horizontal recta cuyas ordenadas son igual al promedio de las ordenadas espectrales del ruido. Esta técnica fue llamada “Análisis espectral” por Voulgaris and Trowbridge (1998), quienes proponen calcular la energía asociada al ruido a partir del nivel de energía detectado en la cola del espectro, en un rango de frecuencias tal que garantice 10 estimaciones para el cálculo del promedio estadístico."
   ]
  },
  {
   "cell_type": "markdown",
   "metadata": {},
   "source": [
    "### Determinación del nivel de ruido"
   ]
  },
  {
   "cell_type": "markdown",
   "metadata": {},
   "source": [
    "A continuación se aplica el \"Análisis espectral\" (Voulgaris and Trowbridge, 1998) para la extracción del ruido Doppler del espectro de energía de la señal de velocidad. Se adopta el rango $[fs/2-1Hz,fs/2]$ para el cálculo del nivel de energía del ruido. **Debe verificarse visualmente que dicho nivel se corresponda con un aplanamiento en el espectro de la señal no filtrada, y que el rango contenga por lo menos 10 valores.**"
   ]
  },
  {
   "cell_type": "code",
   "execution_count": 316,
   "metadata": {},
   "outputs": [],
   "source": [
    "def noise (a,nfft):\n",
    "    (psd, freq)=mlab.psd(a-np.mean(a), detrend=mlab.detrend_none, noverlap=nfft//2, NFFT=nfft, Fs=fs,window=np.hamming(nfft),pad_to=nfft,sides='onesided',scale_by_freq=True)\n",
    "    dopplernoise = np.mean(psd[len([f for f in freq if f <= 0.5*fs-1]):])\n",
    "    display('Cantidad de valores en el rango [fs/2-1Hz, fs/2]: '+str(len([f for f in freq if f <= 0.5*fs-1])))\n",
    "    return psd, freq, dopplernoise"
   ]
  },
  {
   "cell_type": "code",
   "execution_count": 317,
   "metadata": {},
   "outputs": [
    {
     "data": {
      "text/plain": [
       "'Cantidad de valores en el rango [fs/2-1Hz, fs/2]: 492'"
      ]
     },
     "metadata": {},
     "output_type": "display_data"
    },
    {
     "data": {
      "text/plain": [
       "'Cantidad de valores en el rango [fs/2-1Hz, fs/2]: 492'"
      ]
     },
     "metadata": {},
     "output_type": "display_data"
    },
    {
     "data": {
      "text/plain": [
       "'Cantidad de valores en el rango [fs/2-1Hz, fs/2]: 492'"
      ]
     },
     "metadata": {},
     "output_type": "display_data"
    },
    {
     "data": {
      "text/plain": [
       "'Ruido Doppler, componente x (cm2/s): 0.004221079206925499'"
      ]
     },
     "metadata": {},
     "output_type": "display_data"
    },
    {
     "data": {
      "text/plain": [
       "'Ruido Doppler, componente y (cm2/s): 0.004464462136445076'"
      ]
     },
     "metadata": {},
     "output_type": "display_data"
    },
    {
     "data": {
      "text/plain": [
       "'Ruido Doppler, componente z (cm2/s): 0.0001478850653984826'"
      ]
     },
     "metadata": {},
     "output_type": "display_data"
    }
   ],
   "source": [
    "psdx_unf,fx,noisex = noise(Vx_int,1024)\n",
    "psdy_unf,fy,noisey = noise(Vy_int,1024)\n",
    "psdz_unf,fz,noisez = noise(Vz_int,1024)\n",
    "\n",
    "display('Ruido Doppler, componente x (cm2/s): ' + str(noisex))\n",
    "display('Ruido Doppler, componente y (cm2/s): ' + str(noisey))\n",
    "display('Ruido Doppler, componente z (cm2/s): ' + str(noisez))"
   ]
  },
  {
   "cell_type": "markdown",
   "metadata": {},
   "source": [
    "### Verificación del nivel de ruido"
   ]
  },
  {
   "cell_type": "code",
   "execution_count": 318,
   "metadata": {},
   "outputs": [
    {
     "data": {
      "text/plain": [
       "<matplotlib.legend.Legend at 0x12637eb8>"
      ]
     },
     "execution_count": 318,
     "metadata": {},
     "output_type": "execute_result"
    },
    {
     "data": {
      "image/png": "[encoded data removed]",
      "text/plain": [
       "<matplotlib.figure.Figure at 0x12cdf828>"
      ]
     },
     "metadata": {
      "needs_background": "light"
     },
     "output_type": "display_data"
    },
    {
     "data": {
      "image/png": "[encoded data removed]",
      "text/plain": [
       "<matplotlib.figure.Figure at 0x124837b8>"
      ]
     },
     "metadata": {
      "needs_background": "light"
     },
     "output_type": "display_data"
    },
    {
     "data": {
      "image/png": "[encoded data removed]",
      "text/plain": [
       "<matplotlib.figure.Figure at 0x13030b38>"
      ]
     },
     "metadata": {
      "needs_background": "light"
     },
     "output_type": "display_data"
    }
   ],
   "source": [
    "# Componente x\n",
    "plt.figure(1)\n",
    "plt.title('Espectro no filtrado - Componente x')\n",
    "plt.ylabel('PSD [cm^2/s]')\n",
    "plt.xlabel('f [Hz]')\n",
    "plt.loglog(fx,psdx_unf)\n",
    "plt.loglog(fx,noisex*np.ones(len(fx)))\n",
    "plt.legend(['PSD','Doppler noise'])\n",
    "\n",
    "# Componente y\n",
    "plt.figure(2)\n",
    "plt.title('Espectro no filtrado - Componente y')\n",
    "plt.ylabel('PSD [cm^2/s]')\n",
    "plt.xlabel('f [Hz]')\n",
    "plt.loglog(fy,psdy_unf)\n",
    "plt.loglog(fy,noisey*np.ones(len(fy)))\n",
    "plt.legend(['PSD','Doppler noise'])\n",
    "\n",
    "# Componente z\n",
    "plt.figure(3)\n",
    "plt.title('Espectro no filtrado - Componente z')\n",
    "plt.ylabel('PSD [cm^2/s]')\n",
    "plt.xlabel('f [Hz]')\n",
    "plt.loglog(fz,psdz_unf)\n",
    "plt.loglog(fz,noisez*np.ones(len(fz)))\n",
    "plt.legend(['PSD','Doppler noise'])"
   ]
  },
  {
   "cell_type": "markdown",
   "metadata": {},
   "source": [
    "### Cálculo de PSD filtrada"
   ]
  },
  {
   "cell_type": "code",
   "execution_count": 319,
   "metadata": {},
   "outputs": [],
   "source": [
    "psdx = psdx_unf - noisex*np.ones(len(psdx_unf))\n",
    "psdy = psdy_unf - noisey*np.ones(len(psdy_unf))\n",
    "psdz = psdz_unf - noisez*np.ones(len(psdz_unf))"
   ]
  },
  {
   "cell_type": "markdown",
   "metadata": {},
   "source": [
    "## Cálculo de estadísticos y cantidades turbulentas"
   ]
  },
  {
   "cell_type": "markdown",
   "metadata": {},
   "source": [
    "### Valor medio"
   ]
  },
  {
   "cell_type": "code",
   "execution_count": 341,
   "metadata": {},
   "outputs": [
    {
     "data": {
      "text/plain": [
       "'Velocidad media dirección x (cm/s): 4.710994807961126'"
      ]
     },
     "metadata": {},
     "output_type": "display_data"
    },
    {
     "data": {
      "text/plain": [
       "'Velocidad media dirección y (cm/s): 3.6670029288424417'"
      ]
     },
     "metadata": {},
     "output_type": "display_data"
    },
    {
     "data": {
      "text/plain": [
       "'Velocidad media dirección z (cm/s): -0.1396042734473807'"
      ]
     },
     "metadata": {},
     "output_type": "display_data"
    }
   ],
   "source": [
    "Vx = np.nanmean(Vx_raw)\n",
    "Vy = np.nanmean(Vy_raw)\n",
    "Vz = np.nanmean(Vz_raw)\n",
    "\n",
    "display('Velocidad media dirección x (cm/s): '+str(Vx))\n",
    "display('Velocidad media dirección y (cm/s): '+str(Vy))\n",
    "display('Velocidad media dirección z (cm/s): '+str(Vz))"
   ]
  },
  {
   "cell_type": "markdown",
   "metadata": {},
   "source": [
    "### Fluctuaciones"
   ]
  },
  {
   "cell_type": "code",
   "execution_count": 342,
   "metadata": {},
   "outputs": [],
   "source": [
    "vx = Vx_int-np.nanmean(Vx_int)\n",
    "vy = Vy_int-np.nanmean(Vy_int)\n",
    "vz = Vz_int-np.nanmean(Vz_int)"
   ]
  },
  {
   "cell_type": "markdown",
   "metadata": {},
   "source": [
    "### Varianzas"
   ]
  },
  {
   "cell_type": "code",
   "execution_count": 343,
   "metadata": {},
   "outputs": [
    {
     "data": {
      "text/plain": [
       "'Varianza no corregida por ruido Doppler, dirección x (cm2/s2): 0.4508336871859829'"
      ]
     },
     "metadata": {},
     "output_type": "display_data"
    },
    {
     "data": {
      "text/plain": [
       "'Varianza no corregida por ruido Doppler, dirección y (cm2/s2): 0.9144203758817234'"
      ]
     },
     "metadata": {},
     "output_type": "display_data"
    },
    {
     "data": {
      "text/plain": [
       "'Varianza no corregida por ruido Doppler, dirección z (cm2/s2): 0.4925726750586198'"
      ]
     },
     "metadata": {},
     "output_type": "display_data"
    }
   ],
   "source": [
    "# Sin corrección por ruido Doppler\n",
    "varx_unc = np.nanvar(Vx_raw)\n",
    "vary_unc = np.nanvar(Vy_raw)\n",
    "varz_unc = np.nanvar(Vz_raw)\n",
    "\n",
    "display('Varianza no corregida por ruido Doppler, dirección x (cm2/s2): '+str(varx_unc))\n",
    "display('Varianza no corregida por ruido Doppler, dirección y (cm2/s2): '+str(vary_unc))\n",
    "display('Varianza no corregida por ruido Doppler, dirección z (cm2/s2): '+str(varz_unc))"
   ]
  },
  {
   "cell_type": "code",
   "execution_count": 344,
   "metadata": {},
   "outputs": [
    {
     "data": {
      "text/plain": [
       "'Varianza corregida por ruido Doppler, dirección x (cm2/s2): 0.4466126079790574'"
      ]
     },
     "metadata": {},
     "output_type": "display_data"
    },
    {
     "data": {
      "text/plain": [
       "'Varianza corregida por ruido Doppler, dirección y (cm2/s2): 0.9099559137452784'"
      ]
     },
     "metadata": {},
     "output_type": "display_data"
    },
    {
     "data": {
      "text/plain": [
       "'Varianza corregida por ruido Doppler, dirección z (cm2/s2): 0.4924247899932213'"
      ]
     },
     "metadata": {},
     "output_type": "display_data"
    }
   ],
   "source": [
    "# Corregidas por ruido Doppler\n",
    "# Serie temporal\n",
    "uu = vx*vx\n",
    "vv = vy*vy\n",
    "ww = vz*vz\n",
    "\n",
    "# Varianzas medias\n",
    "varx = varx_unc - noisex*fs/2\n",
    "vary = vary_unc - noisey*fs/2\n",
    "varz = varz_unc - noisez*fs/2\n",
    "\n",
    "display('Varianza corregida por ruido Doppler, dirección x (cm2/s2): '+str(varx))\n",
    "display('Varianza corregida por ruido Doppler, dirección y (cm2/s2): '+str(vary))\n",
    "display('Varianza corregida por ruido Doppler, dirección z (cm2/s2): '+str(varz))"
   ]
  },
  {
   "cell_type": "markdown",
   "metadata": {},
   "source": [
    "### Tensiones de Reynolds"
   ]
  },
  {
   "cell_type": "code",
   "execution_count": 345,
   "metadata": {},
   "outputs": [
    {
     "data": {
      "text/plain": [
       "'Covarianza, direcciones xy (cm2/s2): 17.459278694653573'"
      ]
     },
     "metadata": {},
     "output_type": "display_data"
    },
    {
     "data": {
      "text/plain": [
       "'Covarianza, direcciones xz (cm2/s2): -0.6010829654342629'"
      ]
     },
     "metadata": {},
     "output_type": "display_data"
    },
    {
     "data": {
      "text/plain": [
       "'Covarianza, direcciones yz (cm2/s2): -0.45395120084831914'"
      ]
     },
     "metadata": {},
     "output_type": "display_data"
    }
   ],
   "source": [
    "# Serie temporal de tensiones de Reynolds\n",
    "uv = vx*vy\n",
    "uw = vx*vz\n",
    "vw = vy*vz\n",
    "\n",
    "# Tensiones de Reynolds medias\n",
    "covaruv = np.mean(Vx_int*Vy_int)\n",
    "covaruw = np.mean(Vx_int*Vz_int)\n",
    "covarvw = np.mean(Vy_int*Vz_int)\n",
    "\n",
    "display('Covarianza, direcciones xy (cm2/s2): ' + str(covaruv))\n",
    "display('Covarianza, direcciones xz (cm2/s2): ' + str(covaruw))\n",
    "display('Covarianza, direcciones yz (cm2/s2): ' + str(covarvw))"
   ]
  },
  {
   "cell_type": "markdown",
   "metadata": {},
   "source": [
    "### Energía cinética turbulenta"
   ]
  },
  {
   "cell_type": "code",
   "execution_count": 346,
   "metadata": {},
   "outputs": [
    {
     "data": {
      "text/plain": [
       "'Energía cinética turbulenta (cm2/s2): 0.9244966558587785'"
      ]
     },
     "metadata": {},
     "output_type": "display_data"
    }
   ],
   "source": [
    "# Serie temporal de energía cinética turbulenta\n",
    "tke = 0.5*(uu + vv + ww)\n",
    "\n",
    "# Energía cinética turbulenta media\n",
    "TKE = 0.5*(varx+vary+varz)\n",
    "\n",
    "display('Energía cinética turbulenta (cm2/s2): ' + str(TKE))"
   ]
  },
  {
   "cell_type": "markdown",
   "metadata": {},
   "source": [
    "### Intensidad de turbulencia"
   ]
  },
  {
   "cell_type": "code",
   "execution_count": 347,
   "metadata": {},
   "outputs": [
    {
     "data": {
      "text/plain": [
       "'Intensidad de turbulencia, dirección x: 0.14185768360534556'"
      ]
     },
     "metadata": {},
     "output_type": "display_data"
    },
    {
     "data": {
      "text/plain": [
       "'Intensidad de turbulencia, dirección y: 0.260135078201867'"
      ]
     },
     "metadata": {},
     "output_type": "display_data"
    },
    {
     "data": {
      "text/plain": [
       "'Intensidad de turbulencia, dirección z: 5.0265642884376'"
      ]
     },
     "metadata": {},
     "output_type": "display_data"
    },
    {
     "data": {
      "text/plain": [
       "'Intensidad de turbulencia: 0.13146712126416976'"
      ]
     },
     "metadata": {},
     "output_type": "display_data"
    }
   ],
   "source": [
    "Itx = np.sqrt(varx)/np.abs(Vx)\n",
    "Ity = np.sqrt(vary)/np.abs(Vy)\n",
    "Itz = np.sqrt(varz)/np.abs(Vz)\n",
    "It = np.sqrt(1/3*(varx+vary+varz))/np.sqrt(Vx**2+Vy**2+Vz**2)\n",
    "\n",
    "display('Intensidad de turbulencia, dirección x: ' + str(Itx))\n",
    "display('Intensidad de turbulencia, dirección y: ' + str(Ity))\n",
    "display('Intensidad de turbulencia, dirección z: ' + str(Itz))\n",
    "display('Intensidad de turbulencia: ' + str(It))"
   ]
  },
  {
   "cell_type": "markdown",
   "metadata": {},
   "source": [
    "## Método Bootstrap para la determinación del tiempo óptimo de medición"
   ]
  },
  {
   "cell_type": "markdown",
   "metadata": {},
   "source": [
    "Los tiempos de medición óptimos se determinan analizando la incertidumbre esperada en la estimación de los paramentos\n",
    "turbulentos, sobre la base de series de velocidad de larga duración registradas en diversas localizaciones, las que a su vez serán sub-muestreadas con distintas duraciones. Para cada una de las sub-series conformadas se aplica la técnica de remuestreo MBB para estimar la incertidumbre de los siguientes parámetros:\n",
    "1. Velocidades medias\n",
    "2. Varianzas\n",
    "3. Energía cinética turbulenta\n",
    "4. Tensiones de Reynolds\n",
    "\n",
    "En cada caso la técnica MBB se aplica con 1000 replicaciones. Sobre la base de los resultados proporcionados se calcularon los correspondientes coeficientes de variación, CV, definidos como la relación entre el error desvío estándar y el valor medio de cada parámetro."
   ]
  },
  {
   "cell_type": "code",
   "execution_count": 326,
   "metadata": {},
   "outputs": [],
   "source": [
    "# Definición de la función 'btsvar' de aplicación de la técnica MBB\n",
    "def btsvar(a,Tblock,nboot): # a: señal de velocidad, Tblock: longitud del bloque, nboot: cantidad de repeticiones\n",
    "    nblock = int(len(a)//(Tblock*fs))\n",
    "    ac=np.copy(a[0:nblock*int(Tblock*fs)]) \n",
    "    b = ac.reshape(nblock,int(Tblock*fs))\n",
    "    blockvar=np.array([])\n",
    "    for i in range(0,nboot):\n",
    "        c=np.array([])\n",
    "        for j in range(0,int(len(a)//nblock)-1):\n",
    "            c = np.append(c,b[random.randint(0,len(b)-1),:])            \n",
    "            blockmean=np.append(blockvar,np.nanmean(c))\n",
    "    return np.mean(blockmean), np.var(blockmean)"
   ]
  },
  {
   "cell_type": "code",
   "execution_count": 327,
   "metadata": {},
   "outputs": [],
   "source": [
    "# Definición de la función 'bopt' para la determinación de la longitud de bloque óptimo\n",
    "def bopt(vx,Tm): # vx: señal de velocidad, Tm: tiempo de medición\n",
    "    acfunc = acf(vx-np.mean(vx), nlags=len(vx), fft=False, unbiased=True) # Función autocorrelación\n",
    "    zero_crossings = np.where(np.diff(np.sign(c)))[0]\n",
    "    Tx = np.trapz(acfunc[0:zero_crossings[0]],(1/fs)*range(zero_crossings[0])) # Escala de tiempo integral\n",
    "    bop = 0.788 * Tx**(2/3) * Tm**(1/3)\n",
    "    return bop"
   ]
  },
  {
   "cell_type": "markdown",
   "metadata": {},
   "source": [
    "### Velocidades medias"
   ]
  },
  {
   "cell_type": "code",
   "execution_count": 336,
   "metadata": {},
   "outputs": [],
   "source": [
    "# Aplicación de MBB para distintas duraciones\n",
    "V = Vx_int # Señal de larga duración a evaluar\n",
    "Ttot = (1/fs)*(len(V)-1)/60 # Tiempo total de medición, en minutos\n",
    "Tm = np.linspace(1,int(Ttot),20) # Tiempos de medición considerados para el análisis, en minutos\n",
    "vmean = np.zeros(len(Tm))\n",
    "vvar = np.zeros(len(Tm))\n",
    "cv = np.zeros(len(Tm))\n",
    "bop = np.zeros(len(Tm))\n",
    "\n",
    "for i in range(len(Tm)):\n",
    "    vi = V[0:int(Tm[i]*60*fs)] # Sub-muestra del registro de velocidad\n",
    "    vmean[i],vvar[i] = btsvar(vi,bopt(vi,Tm[i]),1000)\n",
    "    bop[i] = bopt(vi,Tm[i])\n",
    "    cv[i] = np.sqrt(vvar[i])/vmean[i]"
   ]
  },
  {
   "cell_type": "code",
   "execution_count": 363,
   "metadata": {},
   "outputs": [
    {
     "data": {
      "text/plain": [
       "Text(0,0.5,'Coeficiente de variación [-]')"
      ]
     },
     "execution_count": 363,
     "metadata": {},
     "output_type": "execute_result"
    },
    {
     "data": {
      "image/png": "[encoded data removed]",
      "text/plain": [
       "<matplotlib.figure.Figure at 0x125b8ba8>"
      ]
     },
     "metadata": {
      "needs_background": "light"
     },
     "output_type": "display_data"
    }
   ],
   "source": [
    "# Gráfico\n",
    "plt.plot(Tm,cv)\n",
    "plt.plot(Tm,cv,'o')\n",
    "plt.plot([0, Tm[-1]*1.1],cv[-1]*1.1*np.ones(2),'k--',linewidth=0.5)\n",
    "plt.plot([0, Tm[-1]*1.1],cv[-1]*0.9*np.ones(2),'k--',linewidth=0.5)\n",
    "plt.xlim(0,Tm[-1]*1.1)\n",
    "plt.title('Determinación del tiempo de medición óptimo - Velocidad media')\n",
    "plt.xlabel('Tiempo de medición [min]')\n",
    "plt.ylabel('Coeficiente de variación [-]')"
   ]
  },
  {
   "cell_type": "markdown",
   "metadata": {},
   "source": [
    "### Varianzas"
   ]
  },
  {
   "cell_type": "code",
   "execution_count": 358,
   "metadata": {},
   "outputs": [],
   "source": [
    "# Aplicación de MBB para distintas duraciones\n",
    "V = vx # Señal de larga duración a evaluar\n",
    "Ttot = (1/fs)*(len(V)-1)/60 # Tiempo total de medición, en minutos\n",
    "Tm = np.linspace(1,int(Ttot),20) # Tiempos de medición considerados para el análisis, en minutos\n",
    "vmean = np.zeros(len(Tm))\n",
    "vvar = np.zeros(len(Tm))\n",
    "cv = np.zeros(len(Tm))\n",
    "bop = np.zeros(len(Tm))\n",
    "\n",
    "for i in range(len(Tm)):\n",
    "    vi = V[0:int(Tm[i]*60*fs)] # Sub-muestra del registro de velocidad\n",
    "    vmean[i],vvar[i] = btsvar(vi,bopt(vi,Tm[i]),1000)\n",
    "    bop[i] = bopt(vi,Tm[i])\n",
    "    cv[i] = np.sqrt(vvar[i])/vmean[i]"
   ]
  },
  {
   "cell_type": "code",
   "execution_count": 359,
   "metadata": {},
   "outputs": [
    {
     "data": {
      "text/plain": [
       "Text(0,0.5,'Coeficiente de variación [-]')"
      ]
     },
     "execution_count": 359,
     "metadata": {},
     "output_type": "execute_result"
    },
    {
     "data": {
      "image/png": "[encoded data removed]",
      "text/plain": [
       "<matplotlib.figure.Figure at 0x12497a58>"
      ]
     },
     "metadata": {
      "needs_background": "light"
     },
     "output_type": "display_data"
    }
   ],
   "source": [
    "# Gráfico\n",
    "plt.plot(Tm,cv)\n",
    "plt.plot(Tm,cv,'o')\n",
    "plt.plot([0, Tm[-1]*1.1],cv[-1]*1.1*np.ones(2),'k--',linewidth=0.5)\n",
    "plt.plot([0, Tm[-1]*1.1],cv[-1]*0.9*np.ones(2),'k--',linewidth=0.5)\n",
    "plt.xlim(0,Tm[-1]*1.1)\n",
    "plt.title('Determinación del tiempo de medición óptimo - Varianzas')\n",
    "plt.xlabel('Tiempo de medición [min]')\n",
    "plt.ylabel('Coeficiente de variación [-]')"
   ]
  },
  {
   "cell_type": "markdown",
   "metadata": {},
   "source": [
    "### Energía cinética turbulenta"
   ]
  },
  {
   "cell_type": "code",
   "execution_count": 351,
   "metadata": {},
   "outputs": [],
   "source": [
    "# Aplicación de MBB para distintas duraciones\n",
    "V = tke # Señal de larga duración a evaluar\n",
    "Ttot = (1/fs)*(len(V)-1)/60 # Tiempo total de medición, en minutos\n",
    "Tm = np.linspace(1,int(Ttot),20) # Tiempos de medición considerados para el análisis, en minutos\n",
    "vmean = np.zeros(len(Tm))\n",
    "vvar = np.zeros(len(Tm))\n",
    "cv = np.zeros(len(Tm))\n",
    "bop = np.zeros(len(Tm))\n",
    "\n",
    "for i in range(len(Tm)):\n",
    "    vi = V[0:int(Tm[i]*60*fs)] # Sub-muestra del registro de velocidad\n",
    "    vmean[i],vvar[i] = btsvar(vi,bopt(vi,Tm[i]),1000)\n",
    "    bop[i] = bopt(vi,Tm[i])\n",
    "    cv[i] = np.sqrt(vvar[i])/vmean[i]"
   ]
  },
  {
   "cell_type": "code",
   "execution_count": 355,
   "metadata": {},
   "outputs": [
    {
     "data": {
      "text/plain": [
       "Text(0,0.5,'Coeficiente de variación [-]')"
      ]
     },
     "execution_count": 355,
     "metadata": {},
     "output_type": "execute_result"
    },
    {
     "data": {
      "image/png": "[encoded data removed]",
      "text/plain": [
       "<matplotlib.figure.Figure at 0x13c65940>"
      ]
     },
     "metadata": {
      "needs_background": "light"
     },
     "output_type": "display_data"
    }
   ],
   "source": [
    "# Gráfico\n",
    "plt.plot(Tm,cv)\n",
    "plt.plot(Tm,cv,'o')\n",
    "plt.plot([0, Tm[-1]*1.1],cv[-1]*1.1*np.ones(2),'k--',linewidth=0.5)\n",
    "plt.plot([0, Tm[-1]*1.1],cv[-1]*0.9*np.ones(2),'k--',linewidth=0.5)\n",
    "plt.xlim(0,Tm[-1]*1.1)\n",
    "plt.title('Determinación del tiempo de medición óptimo - TKE')\n",
    "plt.xlabel('Tiempo de medición [min]')\n",
    "plt.ylabel('Coeficiente de variación [-]')"
   ]
  },
  {
   "cell_type": "markdown",
   "metadata": {},
   "source": [
    "### Tensiones de Reynolds"
   ]
  },
  {
   "cell_type": "code",
   "execution_count": 356,
   "metadata": {},
   "outputs": [],
   "source": [
    "# Aplicación de MBB para distintas duraciones\n",
    "V = uv # Señal de larga duración a evaluar\n",
    "Ttot = (1/fs)*(len(V)-1)/60 # Tiempo total de medición, en minutos\n",
    "Tm = np.linspace(1,int(Ttot),20) # Tiempos de medición considerados para el análisis, en minutos\n",
    "vmean = np.zeros(len(Tm))\n",
    "vvar = np.zeros(len(Tm))\n",
    "cv = np.zeros(len(Tm))\n",
    "bop = np.zeros(len(Tm))\n",
    "\n",
    "for i in range(len(Tm)):\n",
    "    vi = V[0:int(Tm[i]*60*fs)] # Sub-muestra del registro de velocidad\n",
    "    vmean[i],vvar[i] = btsvar(vi,bopt(vi,Tm[i]),1000)\n",
    "    bop[i] = bopt(vi,Tm[i])\n",
    "    cv[i] = np.sqrt(vvar[i])/vmean[i]"
   ]
  },
  {
   "cell_type": "code",
   "execution_count": 357,
   "metadata": {},
   "outputs": [
    {
     "data": {
      "text/plain": [
       "Text(0,0.5,'Coeficiente de variación [-]')"
      ]
     },
     "execution_count": 357,
     "metadata": {},
     "output_type": "execute_result"
    },
    {
     "data": {
      "image/png": "[encoded data removed]",
      "text/plain": [
       "<matplotlib.figure.Figure at 0x1377d470>"
      ]
     },
     "metadata": {
      "needs_background": "light"
     },
     "output_type": "display_data"
    }
   ],
   "source": [
    "# Gráfico\n",
    "plt.plot(Tm,cv)\n",
    "plt.plot(Tm,cv,'o')\n",
    "plt.plot([0, Tm[-1]*1.1],cv[-1]*1.1*np.ones(2),'k--',linewidth=0.5)\n",
    "plt.plot([0, Tm[-1]*1.1],cv[-1]*0.9*np.ones(2),'k--',linewidth=0.5)\n",
    "plt.xlim(0,Tm[-1]*1.1)\n",
    "plt.title('Determinación del tiempo de medición óptimo - Tensiones de Reynolds')\n",
    "plt.xlabel('Tiempo de medición [min]')\n",
    "plt.ylabel('Coeficiente de variación [-]')"
   ]
  },
  {
   "cell_type": "markdown",
   "metadata": {},
   "source": [
    "## Referencias"
   ]
  },
  {
   "cell_type": "markdown",
   "metadata": {},
   "source": [
    "* García C.M., Scacchi G., Herrero H.S., Díaz Lozada J.M., Pedocchi F., Niño Y. y García M.H. (2016). \"Guía práctica para realizar mediciones de velocidad en flujos turbulentos con ADV. Versión 2016\". Extraído de: Scacchi G. (2017) \"Interacción entre el flujo turbulento y los procesos de erosión junto a estribos de puentes protegidos. Estudio experimental\"\n",
    "\n",
    "* García C., Cantero M., Niño Y., and García M. (2005). “Turbulence measurements with Acoustic Doppler Velocimeters”. J.Hydr. Engrg. ASCE. 131, 1062-1073.\n",
    "\n",
    "* García C. (). \"Turbulence measurements using accoustic Doppler velocimeters\".\n",
    "\n",
    "* García C., Jackson P., and García M. (2006). “Confidence intervals in the determination of turbulence parameters”. Experiment in Fluids. 40: 514 – 522.\n",
    "\n",
    "* Goring D., Nikora, V. (2002). \"Despiking Acoustic Doppler Velocimeter Data\". J. Hydr. Engrg. ASCE, Volume 128, (1), 117-126.\n",
    "\n",
    "* Lemmin U., and Lhermitte R. (1999). “Discussion of ‘ADV measurements of turbulence: Can we improve their interpretation?’ by Nikora,V., and Goring, D.” J.Hydr. Engrg. ASCE. 125, 987-988.\n",
    "\n",
    "* McLelland S. and Nicholas A. (2000). \"A new method for evaluating errors in high frequency ADV measurements\". Hydrological Processes. 14, 351-366.\n",
    "\n",
    "* Nikora V., and Goring D. (1998). \"ADV measuremets of turbulence: Can we improve their interpretation?\" J.Hydr. Engrg. ASCE. 124, 630-634.\n",
    "\n",
    "* Voulgaris G., and Trowbridge J. (1998). \"Evaluation of the acoustic Doppler velocimeter (ADV) for turbulence measurements\". Journal of Atmospheric and Oceanic Technology. 15, 272-288."
   ]
  },
  {
   "cell_type": "code",
   "execution_count": null,
   "metadata": {},
   "outputs": [],
   "source": []
  }
 ],
 "metadata": {
  "kernelspec": {
   "display_name": "Python 3",
   "language": "python",
   "name": "python3"
  },
  "language_info": {
   "codemirror_mode": {
    "name": "ipython",
    "version": 3
   },
   "file_extension": ".py",
   "mimetype": "text/x-python",
   "name": "python",
   "nbconvert_exporter": "python",
   "pygments_lexer": "ipython3",
   "version": "3.6.4"
  }
 },
 "nbformat": 4,
 "nbformat_minor": 2
}
